{
  "nbformat": 4,
  "nbformat_minor": 0,
  "metadata": {
    "colab": {
      "provenance": []
    },
    "kernelspec": {
      "name": "python3",
      "display_name": "Python 3"
    },
    "language_info": {
      "name": "python"
    }
  },
  "cells": [
    {
      "cell_type": "code",
      "execution_count": 2,
      "metadata": {
        "id": "H8wsMsPSCOKv"
      },
      "outputs": [],
      "source": [
        "class URLFrontier:\n",
        "  def __init__(self):\n",
        "\n",
        "    #Priority queue maintaining the frontier of URL's to be crawled, initialized with seed urls\n",
        "    self.frontier_pq = get_seed_urls()\n",
        "\n",
        "    #Dictionary to maintain the information of crawled documents\n",
        "    self.crawled_urls_metadata = {}\n",
        "\n",
        "    self.max_documnets_to_srawl = 10000\n",
        "\n",
        "    self.documents_crawled = 0\n",
        "\n",
        "  def crawl_url(self, url):\n",
        "\n",
        "    # check if this url is already crawled\n",
        "\n",
        "    # mark url as visited\n",
        "\n",
        "    # follow politness policy\n",
        "\n",
        "    # check robots.text\n",
        "\n",
        "    # crawl from web the data from this url\n",
        "\n",
        "    #canonicalize the url update dictionary inlinks, wave number(if lesser than previous)\n",
        "    #push it to the queue\n",
        "\n",
        "    # check the url type and load appropriate document loader and chunk the data\n",
        "    # and embed and store to vector database.\n",
        "\n",
        "    return\n",
        "\n",
        "  def save_url_frontier(self):\n",
        "\n",
        "    #checkpoint to save the current state of url frontier\n",
        "\n",
        "    return\n",
        "\n",
        "  def robots_parser(self,url):\n",
        "\n",
        "    #parse the url\n",
        "\n",
        "    #get the robot.txt url\n",
        "\n",
        "    #check if we can parse the input url\n",
        "\n",
        "    return\n",
        "\n",
        "\n",
        "\n",
        "\n",
        "\n",
        "\n",
        "\n",
        "\n",
        "\n",
        "\n",
        "\n",
        "\n",
        "\n"
      ]
    },
    {
      "cell_type": "code",
      "source": [
        "class DocumentLoader:\n",
        "  def __init__(self):\n",
        "    \"define the default loaders for different types of files\"\n",
        "\n",
        "\n",
        "  def load_document(url):\n",
        "    #if possible load the document directly from url\n",
        "    #if not, download and load it\n",
        "\n",
        "\n",
        ""
      ],
      "metadata": {
        "id": "OnYD-XxSZDzg"
      },
      "execution_count": null,
      "outputs": []
    }
  ]
}